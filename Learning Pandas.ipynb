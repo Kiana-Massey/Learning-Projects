{
 "cells": [
  {
   "cell_type": "code",
   "execution_count": 2,
   "id": "c316f5a4-2c94-486c-92f5-70c5926695bc",
   "metadata": {},
   "outputs": [],
   "source": [
    "import pandas as pd"
   ]
  },
  {
   "cell_type": "code",
   "execution_count": 5,
   "id": "debe1934-dc74-465d-872f-5a1016201306",
   "metadata": {},
   "outputs": [
    {
     "name": "stdout",
     "output_type": "stream",
     "text": [
      "0        fanta\n",
      "1    coca-cola\n",
      "2       sprite\n",
      "dtype: object\n"
     ]
    }
   ],
   "source": [
    "#create list and print drinks\n",
    "\n",
    "soda = [\"fanta\", \"coca-cola\", \"sprite\"]\n",
    "\n",
    "drink = pd.Series(soda)\n",
    "\n",
    "print(drink)"
   ]
  },
  {
   "cell_type": "code",
   "execution_count": 6,
   "id": "147a85b2-9792-4f2b-ada7-5914c96d913c",
   "metadata": {},
   "outputs": [
    {
     "name": "stdout",
     "output_type": "stream",
     "text": [
      "coca-cola\n"
     ]
    }
   ],
   "source": [
    "#slicing indexs\n",
    "\n",
    "print(drink[1])"
   ]
  },
  {
   "cell_type": "code",
   "execution_count": 7,
   "id": "8f618407-2d79-4cf2-a716-23038278e5d4",
   "metadata": {},
   "outputs": [
    {
     "name": "stdout",
     "output_type": "stream",
     "text": [
      "orange        fanta\n",
      "red       coca-cola\n",
      "green        sprite\n",
      "dtype: object\n"
     ]
    }
   ],
   "source": [
    "#creating labels for indexes\n",
    "\n",
    "soda = [\"fanta\", \"coca-cola\", \"sprite\"]\n",
    "\n",
    "drink = pd.Series(soda, index = [\"orange\", \"red\", \"green\"])\n",
    "\n",
    "print(drink)"
   ]
  },
  {
   "cell_type": "code",
   "execution_count": 8,
   "id": "097b58f5-4536-482c-9ccf-5611698a49ea",
   "metadata": {},
   "outputs": [],
   "source": [
    "#dtype is type of data that is stored"
   ]
  },
  {
   "cell_type": "code",
   "execution_count": 9,
   "id": "1cf6c311-0cea-41d0-9960-3befa5e91455",
   "metadata": {},
   "outputs": [
    {
     "name": "stdout",
     "output_type": "stream",
     "text": [
      "coca-cola\n"
     ]
    }
   ],
   "source": [
    "#returning the value of \"red\"\n",
    "\n",
    "print(drink[\"red\"])"
   ]
  },
  {
   "cell_type": "code",
   "execution_count": 11,
   "id": "f412a550-154b-4753-9ad6-a93b44b10fd8",
   "metadata": {},
   "outputs": [
    {
     "name": "stdout",
     "output_type": "stream",
     "text": [
      "orange        fanta\n",
      "red       coca-cola\n",
      "green        sprite\n",
      "dtype: object\n"
     ]
    }
   ],
   "source": [
    "#creating a series\n",
    "\n",
    "soda = {\"orange\": \"fanta\", \"red\":\"coca-cola\", \"green\":\"sprite\"}\n",
    "\n",
    "drink = pd.Series(soda)\n",
    "\n",
    "print(drink)"
   ]
  },
  {
   "cell_type": "code",
   "execution_count": 13,
   "id": "b5a2cf78-5513-48f1-a390-0765737ccc58",
   "metadata": {},
   "outputs": [
    {
     "name": "stdout",
     "output_type": "stream",
     "text": [
      "red      coca-cola\n",
      "green       sprite\n",
      "dtype: object\n"
     ]
    }
   ],
   "source": [
    "#indexing within a series\n",
    "\n",
    "soda = {\"orange\": \"fanta\", \"red\":\"coca-cola\", \"green\":\"sprite\"}\n",
    "\n",
    "drink = pd.Series(soda, index = [\"red\", \"green\"])\n",
    "\n",
    "print(drink)"
   ]
  },
  {
   "cell_type": "code",
   "execution_count": 16,
   "id": "26effa7d-3eb1-447f-aa0f-14fc196e9991",
   "metadata": {},
   "outputs": [
    {
     "name": "stdout",
     "output_type": "stream",
     "text": [
      "    color       soda\n",
      "0  orange      fanta\n",
      "1     red  coca-cola\n",
      "2   green     sprite\n"
     ]
    }
   ],
   "source": [
    "#creating a dataframe\n",
    "\n",
    "soda = {\"color\":[\"orange\", \"red\", \"green\"], \"soda\": [\"fanta\", \"coca-cola\", \"sprite\"]}\n",
    "\n",
    "drink = pd.DataFrame(soda)\n",
    "\n",
    "print(drink)"
   ]
  },
  {
   "cell_type": "code",
   "execution_count": 19,
   "id": "47f39cc8-c98c-4250-bbd0-89f7d32105c6",
   "metadata": {},
   "outputs": [
    {
     "name": "stdout",
     "output_type": "stream",
     "text": [
      "color     green\n",
      "soda     sprite\n",
      "Name: 2, dtype: object\n"
     ]
    }
   ],
   "source": [
    "#row location\n",
    "\n",
    "print(drink.loc[2])"
   ]
  },
  {
   "cell_type": "code",
   "execution_count": 21,
   "id": "c4c71638-1c3b-46c1-a6c2-f664cd450eee",
   "metadata": {},
   "outputs": [
    {
     "name": "stdout",
     "output_type": "stream",
     "text": [
      "    color    soda\n",
      "0  orange   fanta\n",
      "2   green  sprite\n"
     ]
    }
   ],
   "source": [
    "#row location\n",
    "\n",
    "print(drink.loc[[0,2]])"
   ]
  },
  {
   "cell_type": "code",
   "execution_count": 22,
   "id": "69e443a8-3212-4597-bc22-b48c23cf4fa4",
   "metadata": {},
   "outputs": [
    {
     "name": "stdout",
     "output_type": "stream",
     "text": [
      "          color       soda\n",
      "can      orange      fanta\n",
      "bottle      red  coca-cola\n",
      "machine   green     sprite\n"
     ]
    }
   ],
   "source": [
    "#name index\n",
    "\n",
    "soda = {\"color\":[\"orange\", \"red\", \"green\"], \"soda\": [\"fanta\", \"coca-cola\", \"sprite\"]}\n",
    "\n",
    "drink = pd.DataFrame(soda, index = [\"can\", \"bottle\", \"machine\"])\n",
    "\n",
    "print(drink)"
   ]
  },
  {
   "cell_type": "code",
   "execution_count": 24,
   "id": "0fcd4f1a-58be-43d7-9fc0-bf947d8723cf",
   "metadata": {},
   "outputs": [
    {
     "name": "stdout",
     "output_type": "stream",
     "text": [
      "color          red\n",
      "soda     coca-cola\n",
      "Name: bottle, dtype: object\n"
     ]
    }
   ],
   "source": [
    "#row locating\n",
    "\n",
    "print(drink.loc[\"bottle\"])"
   ]
  },
  {
   "cell_type": "code",
   "execution_count": 38,
   "id": "4ca6540f-5834-43c9-8330-2201ed93bf4c",
   "metadata": {},
   "outputs": [
    {
     "name": "stdout",
     "output_type": "stream",
     "text": [
      "       person_id         id                    name                character  \\\n",
      "0           3748    tm84618          Robert De Niro            Travis Bickle   \n",
      "1          14658    tm84618            Jodie Foster            Iris Steensma   \n",
      "2           7064    tm84618           Albert Brooks                      Tom   \n",
      "3           3739    tm84618           Harvey Keitel  Matthew 'Sport' Higgins   \n",
      "4          48933    tm84618         Cybill Shepherd                    Betsy   \n",
      "...          ...        ...                     ...                      ...   \n",
      "77208    1347054  tm1098060  Nnenna Rachael Okonkwo                   Afinni   \n",
      "77209     157590  tm1098060           Lucien Morgan           Dr. Ian Stones   \n",
      "77210     129059  tm1098060        Magdalena Korpas                     Jane   \n",
      "77211    2050199  tm1098060        Mistura Olusanya               Nurse Titi   \n",
      "77212    2050423  tm1098060              Yemi Amodu                      NaN   \n",
      "\n",
      "           role  \n",
      "0         ACTOR  \n",
      "1         ACTOR  \n",
      "2         ACTOR  \n",
      "3         ACTOR  \n",
      "4         ACTOR  \n",
      "...         ...  \n",
      "77208     ACTOR  \n",
      "77209     ACTOR  \n",
      "77210     ACTOR  \n",
      "77211     ACTOR  \n",
      "77212  DIRECTOR  \n",
      "\n",
      "[77213 rows x 5 columns]\n"
     ]
    }
   ],
   "source": [
    "#loading file into dataframe\n",
    "\n",
    "df = pd.read_csv('credits.csv')\n",
    "\n",
    "print(df)"
   ]
  },
  {
   "cell_type": "code",
   "execution_count": 41,
   "id": "9122fbf5-1edf-4f4f-ab2f-6d25eb56eeca",
   "metadata": {},
   "outputs": [
    {
     "name": "stdout",
     "output_type": "stream",
     "text": [
      "       person_id         id                    name                character  \\\n",
      "0           3748    tm84618          Robert De Niro            Travis Bickle   \n",
      "1          14658    tm84618            Jodie Foster            Iris Steensma   \n",
      "2           7064    tm84618           Albert Brooks                      Tom   \n",
      "3           3739    tm84618           Harvey Keitel  Matthew 'Sport' Higgins   \n",
      "4          48933    tm84618         Cybill Shepherd                    Betsy   \n",
      "...          ...        ...                     ...                      ...   \n",
      "77208    1347054  tm1098060  Nnenna Rachael Okonkwo                   Afinni   \n",
      "77209     157590  tm1098060           Lucien Morgan           Dr. Ian Stones   \n",
      "77210     129059  tm1098060        Magdalena Korpas                     Jane   \n",
      "77211    2050199  tm1098060        Mistura Olusanya               Nurse Titi   \n",
      "77212    2050423  tm1098060              Yemi Amodu                      NaN   \n",
      "\n",
      "           role  \n",
      "0         ACTOR  \n",
      "1         ACTOR  \n",
      "2         ACTOR  \n",
      "3         ACTOR  \n",
      "4         ACTOR  \n",
      "...         ...  \n",
      "77208     ACTOR  \n",
      "77209     ACTOR  \n",
      "77210     ACTOR  \n",
      "77211     ACTOR  \n",
      "77212  DIRECTOR  \n",
      "\n",
      "[77213 rows x 5 columns]\n"
     ]
    }
   ],
   "source": [
    "#printing a specific maximum number of rows from dataframe\n",
    "\n",
    "pd.options.display.max_rows = 10\n",
    "\n",
    "df = pd.read_csv('credits.csv')\n",
    "\n",
    "print(df)"
   ]
  },
  {
   "cell_type": "code",
   "execution_count": 46,
   "id": "41216eb8-f758-4be5-9455-29adc893721e",
   "metadata": {},
   "outputs": [
    {
     "name": "stdout",
     "output_type": "stream",
     "text": [
      "    person_id       id             name                     character   role\n",
      "0        3748  tm84618   Robert De Niro                 Travis Bickle  ACTOR\n",
      "1       14658  tm84618     Jodie Foster                 Iris Steensma  ACTOR\n",
      "2        7064  tm84618    Albert Brooks                           Tom  ACTOR\n",
      "3        3739  tm84618    Harvey Keitel       Matthew 'Sport' Higgins  ACTOR\n",
      "4       48933  tm84618  Cybill Shepherd                         Betsy  ACTOR\n",
      "..        ...      ...              ...                           ...    ...\n",
      "10      43791  tm84618    Murray Moston             Iris' Time Keeper  ACTOR\n",
      "11     519614  tm84618    Richard Higgs          Secret Service Agent  ACTOR\n",
      "12     519615  tm84618      Bill Minkin  Tom's Assistant (uncredited)  ACTOR\n",
      "13      82426  tm84618       Bob Maroff          Mafioso (uncredited)  ACTOR\n",
      "14      20935  tm84618      Victor Argo     Melio, Delicatessen Owner  ACTOR\n",
      "\n",
      "[15 rows x 5 columns]\n"
     ]
    }
   ],
   "source": [
    "#getting a quick overview of the dataframe with 'head' method\n",
    "\n",
    "df = pd.read_csv('credits.csv')\n",
    "\n",
    "print(df.head(15))"
   ]
  },
  {
   "cell_type": "code",
   "execution_count": 47,
   "id": "84611913-588b-433a-addb-294f548ea84c",
   "metadata": {},
   "outputs": [
    {
     "name": "stdout",
     "output_type": "stream",
     "text": [
      "       person_id         id                    name       character      role\n",
      "77208    1347054  tm1098060  Nnenna Rachael Okonkwo          Afinni     ACTOR\n",
      "77209     157590  tm1098060           Lucien Morgan  Dr. Ian Stones     ACTOR\n",
      "77210     129059  tm1098060        Magdalena Korpas            Jane     ACTOR\n",
      "77211    2050199  tm1098060        Mistura Olusanya      Nurse Titi     ACTOR\n",
      "77212    2050423  tm1098060              Yemi Amodu             NaN  DIRECTOR\n"
     ]
    }
   ],
   "source": [
    "#viewing the last 5 rows of the dataframe with 'tail' method\n",
    "\n",
    "df = pd.read_csv('credits.csv')\n",
    "\n",
    "print(df.tail())"
   ]
  },
  {
   "cell_type": "code",
   "execution_count": 48,
   "id": "dd52fe6e-51ee-408b-b572-4b436aee936f",
   "metadata": {},
   "outputs": [
    {
     "name": "stdout",
     "output_type": "stream",
     "text": [
      "<class 'pandas.core.frame.DataFrame'>\n",
      "RangeIndex: 77213 entries, 0 to 77212\n",
      "Data columns (total 5 columns):\n",
      " #   Column     Non-Null Count  Dtype \n",
      "---  ------     --------------  ----- \n",
      " 0   person_id  77213 non-null  int64 \n",
      " 1   id         77213 non-null  object\n",
      " 2   name       77213 non-null  object\n",
      " 3   character  67586 non-null  object\n",
      " 4   role       77213 non-null  object\n",
      "dtypes: int64(1), object(4)\n",
      "memory usage: 2.9+ MB\n",
      "None\n"
     ]
    }
   ],
   "source": [
    "#printing data information\n",
    "\n",
    "print(df.info())"
   ]
  },
  {
   "cell_type": "code",
   "execution_count": null,
   "id": "eb9674fe-70b2-4842-8a1b-05d95f48ebca",
   "metadata": {},
   "outputs": [],
   "source": []
  }
 ],
 "metadata": {
  "kernelspec": {
   "display_name": "Python 3 (ipykernel)",
   "language": "python",
   "name": "python3"
  },
  "language_info": {
   "codemirror_mode": {
    "name": "ipython",
    "version": 3
   },
   "file_extension": ".py",
   "mimetype": "text/x-python",
   "name": "python",
   "nbconvert_exporter": "python",
   "pygments_lexer": "ipython3",
   "version": "3.9.13"
  }
 },
 "nbformat": 4,
 "nbformat_minor": 5
}
